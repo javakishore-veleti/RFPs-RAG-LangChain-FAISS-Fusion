{
 "cells": [
  {
   "cell_type": "code",
   "execution_count": null,
   "id": "4f9e26d5-4f18-411b-a967-9ba3d2b7faeb",
   "metadata": {},
   "outputs": [],
   "source": []
  },
  {
   "cell_type": "code",
   "execution_count": 1,
   "id": "b7eb9b21-fe65-4b6f-a001-88efa72564b3",
   "metadata": {},
   "outputs": [],
   "source": [
    "from langchain_community.document_loaders import PyPDFLoader\n",
    "from langchain_openai.embeddings import OpenAIEmbeddings\n",
    "from langchain_community.vectorstores import FAISS\n",
    "from langchain.text_splitter import CharacterTextSplitter\n",
    "\n",
    "import os"
   ]
  },
  {
   "cell_type": "markdown",
   "id": "d35d50df-a269-4987-857c-b1ea875755af",
   "metadata": {},
   "source": [
    "## Reading OpenAPI Key "
   ]
  },
  {
   "cell_type": "code",
   "execution_count": 2,
   "id": "84b60a31-921f-474e-85c6-e89a29205045",
   "metadata": {},
   "outputs": [],
   "source": [
    "# from Your Machine Environment Variables\n",
    "\n",
    "if \"MY_OPENAPI_KEY\" in os.environ:\n",
    "    os.environ[\"OPENAI_API_KEY\"] = os.environ[\"MY_OPENAPI_KEY\"]\n",
    "else:\n",
    "    print(\"ERROR MY_OPENAPI_KEY is not set in your machine environment variables, this program will give errots if it is not set\")"
   ]
  },
  {
   "cell_type": "markdown",
   "id": "ee610de1-d81a-493a-9d8c-5deadb368ded",
   "metadata": {},
   "source": [
    "## Load Sample RFP PDF And Build A RAG Retriever"
   ]
  },
  {
   "cell_type": "code",
   "execution_count": 3,
   "id": "40bf80b6-b21f-4d1c-8721-dcc326333b9b",
   "metadata": {},
   "outputs": [],
   "source": [
    "ref_rfp_loader = PyPDFLoader(\"Sample_RFP.pdf\")\n",
    "\n",
    "ref_rfp_documents = ref_rfp_loader.load()\n",
    "\n"
   ]
  },
  {
   "cell_type": "code",
   "execution_count": 4,
   "id": "80a84980-202c-4eb2-85c1-8fa50234ac70",
   "metadata": {},
   "outputs": [],
   "source": [
    "text_splitter = CharacterTextSplitter(chunk_size=1000, chunk_overlap=0)"
   ]
  },
  {
   "cell_type": "code",
   "execution_count": 5,
   "id": "5c88e8b0-a27e-466b-9a71-6fa37eea81c5",
   "metadata": {},
   "outputs": [],
   "source": [
    "ref_rfp_texts = text_splitter.split_documents(ref_rfp_documents)"
   ]
  },
  {
   "cell_type": "code",
   "execution_count": 6,
   "id": "aa535041-cfd6-4bac-a425-3d713367d0fc",
   "metadata": {},
   "outputs": [],
   "source": [
    "embeddings = OpenAIEmbeddings()\n",
    "ref_rfp_as_database = FAISS.from_documents(ref_rfp_texts, embeddings)\n"
   ]
  },
  {
   "cell_type": "code",
   "execution_count": 7,
   "id": "4aee81c0-0d5a-47e4-9186-91d83c437ca9",
   "metadata": {},
   "outputs": [],
   "source": [
    "ref_rfp_retriever = ref_rfp_as_database.as_retriever()"
   ]
  },
  {
   "cell_type": "markdown",
   "id": "e1be5319-f734-41ad-841a-345282612442",
   "metadata": {},
   "source": [
    "## Using LangChain Retriever"
   ]
  },
  {
   "cell_type": "code",
   "execution_count": 8,
   "id": "165ac6ca-d8ac-4948-b071-27a070ad59f9",
   "metadata": {},
   "outputs": [],
   "source": [
    "from langchain.agents.agent_toolkits import create_retriever_tool"
   ]
  },
  {
   "cell_type": "code",
   "execution_count": 9,
   "id": "b8158886-7017-4392-919a-79864b59f7ab",
   "metadata": {},
   "outputs": [],
   "source": [
    "ref_rfp_retriever_tool = create_retriever_tool(ref_rfp_retriever, \n",
    "\"Reference_RFP_Cloud_Migration\", \n",
    "\"Searches and returns documents regarding the reference RFP\")"
   ]
  },
  {
   "cell_type": "code",
   "execution_count": 10,
   "id": "dfdef957-f339-4103-8653-2659c1e29c80",
   "metadata": {},
   "outputs": [],
   "source": [
    "ref_rfp_retriever_tools = [ ref_rfp_retriever_tool ]"
   ]
  },
  {
   "cell_type": "markdown",
   "id": "53d920a5-1bde-471f-aab5-b11fae385ad3",
   "metadata": {},
   "source": [
    "## Integrate LLM With Conversation Agent"
   ]
  },
  {
   "cell_type": "code",
   "execution_count": 11,
   "id": "4a51f2ec-7a1b-446f-bbf1-5c1bfd1931bc",
   "metadata": {},
   "outputs": [],
   "source": [
    "from langchain.agents.agent_toolkits import create_conversational_retrieval_agent\n",
    "from langchain_openai.chat_models import ChatOpenAI"
   ]
  },
  {
   "cell_type": "code",
   "execution_count": 18,
   "id": "7a4cb5b4-e44c-4a5a-9a50-c61e5ff9f811",
   "metadata": {},
   "outputs": [],
   "source": [
    "llm = ChatOpenAI(temperature = 0)\n",
    "agent_executor = create_conversational_retrieval_agent(llm, ref_rfp_retriever_tools, verbose=True)"
   ]
  },
  {
   "cell_type": "markdown",
   "id": "83db3f9e-82a7-48a9-ac98-b45484281123",
   "metadata": {},
   "source": [
    "## Now Ask Questions To LLM"
   ]
  },
  {
   "cell_type": "code",
   "execution_count": 19,
   "id": "76110538-274a-43d0-971f-f002b91370bc",
   "metadata": {},
   "outputs": [
    {
     "name": "stdout",
     "output_type": "stream",
     "text": [
      "\n",
      "\n",
      "\u001b[1m> Entering new AgentExecutor chain...\u001b[0m\n",
      "\u001b[32;1m\u001b[1;3m\n",
      "Invoking: `Reference_RFP_Cloud_Migration` with `{'query': 'cloud technologies'}`\n",
      "\n",
      "\n",
      "\u001b[0m\u001b[36;1m\u001b[1;3m2. Convert the Oracle on-premise database to AWS RDS, ensuring data integrity and high\n",
      "availability.\n",
      "3. Utilize AWS EKS for container orchestration, with a focus on scalability, load balancing, and\n",
      "auto-scaling.\n",
      "4. Leverage AWS S3 for static content storage, backups, and archival of data.\n",
      "5. Implement AWS OpenSearch for centralized logging and monitoring of application logs.\n",
      "6. Ensure security, performance, and compliance standards are met.\n",
      "5. AWS Services and Requirements\n",
      "The selected vendor should utilize the following AWS services as part of the migration:\n",
      "- AWS RDS (Relational Database Service): Migrate the existing Oracle database to Amazon RDS.\n",
      "- AWS EKS (Elastic Kubernetes Service): Containerize the Java-based eCommerce orders service.\n",
      "- AWS S3 (Simple Storage Service): Store static assets, backups, and archival data.\n",
      "- AWS OpenSearch Service: Set up centralized logging for application and infrastructure logs.\n",
      "6. Requirements for Vendors\n",
      "Vendors are expected to have:\n",
      "- Proven experience in cloud migrations, specifically with Java applications and Oracle database\n",
      "systems.\n",
      "- Expertise in AWS cloud services, particularly RDS, EKS, S3, and OpenSearch.\n",
      "- AWS-certified professionals with a focus on cloud architecture, DevOps, and database\n",
      "administration.\n",
      "- A demonstrated understanding of secure cloud practices, data protection, and regulatory\n",
      "compliance.\n",
      "- Ability to deliver the project within the stipulated timeline and provide post-migration support.\n",
      "7. Proposal Submission Requirements\n",
      "Proposals must include the following sections:\n",
      "\n",
      "1. Executive Summary: Overview of the proposed migration strategy and company background.\n",
      "2. Technical Approach: Detailed plan for migrating the Java-based service and Oracle database to\n",
      "AWS.\n",
      "3. Project Timeline: A timeline for each major phase, including a risk management plan.\n",
      "4. Team Structure: Profiles and certifications of key personnel.\n",
      "5. Cost Estimate: A detailed cost breakdown for each phase and ongoing support.\n",
      "6. References: At least three references from previous clients with similar AWS migration projects.\n",
      "8. Evaluation Criteria\n",
      "Proposals will be evaluated based on:\n",
      "- Technical Competency: Expertise in AWS services and cloud migrations.\n",
      "- Experience and References: Proven success in similar projects.\n",
      "- Proposed Methodology and Timeline: Alignment with goals and timelines.\n",
      "- Cost-effectiveness: Competitive pricing and transparency.\n",
      "- Security and Compliance: Understanding of security and regulatory requirements.\n",
      "9. Submission Deadline\n",
      "All proposals must be submitted by [Insert Date]. Late submissions will not be considered.\n",
      "10. Contact Information\n",
      "For any queries or clarifications, please contact:\n",
      "- Name: [Contact Name]\n",
      "- Title: [Contact Title]\n",
      "- Email: [Contact Email]\n",
      "- Phone: [Contact Phone Number]\n",
      "\n",
      "Request for Proposal (RFP) for Migration of On-Premise eCommerce Orders Service to AWS Cloud\n",
      "1. Introduction\n",
      "Company Name is seeking proposals from qualified vendors to migrate its existing on-premise\n",
      "eCommerce orders service, \n",
      "    which is Java-based with an Oracle database backend, to the AWS Cloud. The objective is to\n",
      "complete the migration within the next six months, \n",
      "    ensuring minimal disruption to operations, enhanced scalability, improved resilience, and cost\n",
      "optimization.\n",
      "2. Project Scope\n",
      "The scope of this project includes the migration of the following components to the AWS Cloud:\n",
      "- Java-based eCommerce orders service: Currently hosted on-premise and requires deployment to\n",
      "AWS.\n",
      "- Database Migration: Oracle database on-premise to AWS RDS with an equivalent or better\n",
      "configuration.\n",
      "- Containerization and Orchestration: Implement containerized microservices using AWS Elastic\n",
      "Kubernetes Service (EKS).\n",
      "- Data Storage: Store non-relational data and static assets in AWS S3.\n",
      "- Logging and Monitoring: Use AWS OpenSearch Service for logging and monitoring to ensure\n",
      "observability and reliability.\n",
      "3. Project Timeline\n",
      "The migration is expected to be completed within six months from the project start date. Vendors\n",
      "should include a proposed timeline with their submissions.\n",
      "4. Objectives\n",
      "1. Migrate the existing on-premise Java-based eCommerce orders service to AWS Cloud.\u001b[0m\u001b[32;1m\u001b[1;3mThe cloud technologies mentioned in the RFP for the migration project include:\n",
      "\n",
      "1. AWS RDS (Relational Database Service): Migrate the existing Oracle database to Amazon RDS.\n",
      "2. AWS EKS (Elastic Kubernetes Service): Containerize the Java-based eCommerce orders service.\n",
      "3. AWS S3 (Simple Storage Service): Store static assets, backups, and archival data.\n",
      "4. AWS OpenSearch Service: Set up centralized logging for application and infrastructure logs.\u001b[0m\n",
      "\n",
      "\u001b[1m> Finished chain.\u001b[0m\n"
     ]
    }
   ],
   "source": [
    "question_01 = \"Which cloud technlogies in the RFP\"\n",
    "result = agent_executor.invoke({\"input\": question_01})"
   ]
  },
  {
   "cell_type": "code",
   "execution_count": null,
   "id": "6b14947a-bf30-41ff-b58d-8a8aa91f6385",
   "metadata": {},
   "outputs": [],
   "source": []
  }
 ],
 "metadata": {
  "kernelspec": {
   "display_name": "Python 3 (ipykernel)",
   "language": "python",
   "name": "python3"
  },
  "language_info": {
   "codemirror_mode": {
    "name": "ipython",
    "version": 3
   },
   "file_extension": ".py",
   "mimetype": "text/x-python",
   "name": "python",
   "nbconvert_exporter": "python",
   "pygments_lexer": "ipython3",
   "version": "3.11.4"
  }
 },
 "nbformat": 4,
 "nbformat_minor": 5
}
